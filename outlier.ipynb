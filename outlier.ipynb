{
  "nbformat": 4,
  "nbformat_minor": 0,
  "metadata": {
    "colab": {
      "name": "outlier.ipynb",
      "provenance": [],
      "authorship_tag": "ABX9TyOfgau5SVix2oNib1r78WYX",
      "include_colab_link": true
    },
    "kernelspec": {
      "name": "python3",
      "display_name": "Python 3"
    },
    "language_info": {
      "name": "python"
    }
  },
  "cells": [
    {
      "cell_type": "markdown",
      "metadata": {
        "id": "view-in-github",
        "colab_type": "text"
      },
      "source": [
        "<a href=\"https://colab.research.google.com/github/AokiKoshiro/outlier/blob/main/outlier.ipynb\" target=\"_parent\"><img src=\"https://colab.research.google.com/assets/colab-badge.svg\" alt=\"Open In Colab\"/></a>"
      ]
    },
    {
      "cell_type": "code",
      "metadata": {
        "colab": {
          "base_uri": "https://localhost:8080/",
          "height": 321
        },
        "id": "jNfTBLAbbaDc",
        "outputId": "3158d281-970c-4237-96d1-5b34c94e99ff"
      },
      "source": [
        "import numpy as np\n",
        "from scipy import stats\n",
        "from sklearn.ensemble import IsolationForest\n",
        "from matplotlib import pyplot as plt\n",
        "\n",
        "\n",
        "def main():\n",
        "    #データのダウンロード\n",
        "    data = np.loadtxt(\n",
        "    fname=\"data.csv\",  # 読み込みたいファイルのパス\n",
        "    dtype=\"float\",\n",
        "    delimiter=\",\",\n",
        "    )\n",
        "\n",
        "    # IsolationForest\n",
        "    clf = IsolationForest(n_estimators=100,\n",
        "                          contamination='auto',\n",
        "                          behaviour='new',\n",
        "                          random_state=100)\n",
        "\n",
        "    # データを学習させる\n",
        "    clf.fit(data)\n",
        "\n",
        "    # データを分類する\n",
        "    pred = clf.predict(data)\n",
        "\n",
        "    # IsolationForest は 正常=1 異常=-1 として結果を返す\n",
        "    pred[pred == 1] = 0\n",
        "    pred[pred == -1] = 1\n",
        "\n",
        "    plt.scatter(data[pred == 0, 0],\n",
        "                data[pred == 0, 1],\n",
        "                label='normal',\n",
        "                c='g')\n",
        "    plt.scatter(data[pred == 1, 0],\n",
        "                data[pred == 1, 1],\n",
        "                label='outlier',\n",
        "                c='r')\n",
        "\n",
        "    plt.legend()\n",
        "    plt.show()\n",
        "\n",
        "\n",
        "if __name__ == '__main__':\n",
        "    main()"
      ],
      "execution_count": 3,
      "outputs": [
        {
          "output_type": "stream",
          "text": [
            "/usr/local/lib/python3.7/dist-packages/sklearn/ensemble/_iforest.py:248: FutureWarning: 'behaviour' is deprecated in 0.22 and will be removed in 0.24. You should not pass or set this parameter.\n",
            "  FutureWarning\n"
          ],
          "name": "stderr"
        },
        {
          "output_type": "display_data",
          "data": {
            "image/png": "[encoded data removed]",
            "text/plain": [
              "<Figure size 432x288 with 1 Axes>"
            ]
          },
          "metadata": {
            "tags": [],
            "needs_background": "light"
          }
        }
      ]
    }
  ]
}